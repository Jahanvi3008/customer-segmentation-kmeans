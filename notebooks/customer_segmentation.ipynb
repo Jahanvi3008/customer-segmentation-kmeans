# Notebook: customer_segmentation.ipynb

# TODO: Add your code here.